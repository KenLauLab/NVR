{
 "cells": [
  {
   "cell_type": "markdown",
   "metadata": {},
   "source": [
    "# Gene Selection Tutorial "
   ]
  },
  {
   "cell_type": "markdown",
   "metadata": {},
   "source": [
    "## 0. Importing packages"
   ]
  },
  {
   "cell_type": "markdown",
   "metadata": {},
   "source": [
    "Import nvr, pandas, and numpy. NVR dependencies should be automatically imported if already installed. Be sure to have the following packages installed:\n",
    "\n",
    "numpy, pandas, scipy.spatial, networkx, time, and nvr"
   ]
  },
  {
   "cell_type": "code",
   "execution_count": 1,
   "metadata": {},
   "outputs": [],
   "source": [
    "import nvr\n",
    "import pandas as pd\n",
    "import numpy as np"
   ]
  },
  {
   "cell_type": "markdown",
   "metadata": {},
   "source": [
    "## 1. Loading and pre-processing raw count data"
   ]
  },
  {
   "cell_type": "markdown",
   "metadata": {},
   "source": [
    "This tutorial will utilize the raw count data for GSE102698. We have included this file as a CSV; in its current state it is stripped of gene names. "
   ]
  },
  {
   "cell_type": "code",
   "execution_count": 2,
   "metadata": {},
   "outputs": [],
   "source": [
    "s1counts=pd.read_csv(\"s1_countsRaw.csv\",header=None)"
   ]
  },
  {
   "cell_type": "code",
   "execution_count": 3,
   "metadata": {
    "scrolled": true
   },
   "outputs": [
    {
     "data": {
      "text/html": [
       "<div>\n",
       "<style>\n",
       "    .dataframe thead tr:only-child th {\n",
       "        text-align: right;\n",
       "    }\n",
       "\n",
       "    .dataframe thead th {\n",
       "        text-align: left;\n",
       "    }\n",
       "\n",
       "    .dataframe tbody tr th {\n",
       "        vertical-align: top;\n",
       "    }\n",
       "</style>\n",
       "<table border=\"1\" class=\"dataframe\">\n",
       "  <thead>\n",
       "    <tr style=\"text-align: right;\">\n",
       "      <th></th>\n",
       "      <th>0</th>\n",
       "      <th>1</th>\n",
       "      <th>2</th>\n",
       "      <th>3</th>\n",
       "      <th>4</th>\n",
       "      <th>5</th>\n",
       "      <th>6</th>\n",
       "      <th>7</th>\n",
       "      <th>8</th>\n",
       "      <th>9</th>\n",
       "      <th>...</th>\n",
       "      <th>25497</th>\n",
       "      <th>25498</th>\n",
       "      <th>25499</th>\n",
       "      <th>25500</th>\n",
       "      <th>25501</th>\n",
       "      <th>25502</th>\n",
       "      <th>25503</th>\n",
       "      <th>25504</th>\n",
       "      <th>25505</th>\n",
       "      <th>25506</th>\n",
       "    </tr>\n",
       "  </thead>\n",
       "  <tbody>\n",
       "    <tr>\n",
       "      <th>0</th>\n",
       "      <td>0</td>\n",
       "      <td>1</td>\n",
       "      <td>0</td>\n",
       "      <td>0</td>\n",
       "      <td>0</td>\n",
       "      <td>1</td>\n",
       "      <td>1</td>\n",
       "      <td>0</td>\n",
       "      <td>0</td>\n",
       "      <td>0</td>\n",
       "      <td>...</td>\n",
       "      <td>95</td>\n",
       "      <td>27</td>\n",
       "      <td>54</td>\n",
       "      <td>48</td>\n",
       "      <td>26</td>\n",
       "      <td>17</td>\n",
       "      <td>44</td>\n",
       "      <td>4</td>\n",
       "      <td>15</td>\n",
       "      <td>0</td>\n",
       "    </tr>\n",
       "    <tr>\n",
       "      <th>1</th>\n",
       "      <td>0</td>\n",
       "      <td>2</td>\n",
       "      <td>2</td>\n",
       "      <td>0</td>\n",
       "      <td>0</td>\n",
       "      <td>0</td>\n",
       "      <td>1</td>\n",
       "      <td>0</td>\n",
       "      <td>0</td>\n",
       "      <td>0</td>\n",
       "      <td>...</td>\n",
       "      <td>113</td>\n",
       "      <td>36</td>\n",
       "      <td>67</td>\n",
       "      <td>90</td>\n",
       "      <td>89</td>\n",
       "      <td>12</td>\n",
       "      <td>53</td>\n",
       "      <td>7</td>\n",
       "      <td>23</td>\n",
       "      <td>0</td>\n",
       "    </tr>\n",
       "    <tr>\n",
       "      <th>2</th>\n",
       "      <td>0</td>\n",
       "      <td>1</td>\n",
       "      <td>1</td>\n",
       "      <td>0</td>\n",
       "      <td>0</td>\n",
       "      <td>0</td>\n",
       "      <td>0</td>\n",
       "      <td>0</td>\n",
       "      <td>2</td>\n",
       "      <td>0</td>\n",
       "      <td>...</td>\n",
       "      <td>93</td>\n",
       "      <td>39</td>\n",
       "      <td>46</td>\n",
       "      <td>52</td>\n",
       "      <td>35</td>\n",
       "      <td>23</td>\n",
       "      <td>33</td>\n",
       "      <td>2</td>\n",
       "      <td>18</td>\n",
       "      <td>1</td>\n",
       "    </tr>\n",
       "    <tr>\n",
       "      <th>3</th>\n",
       "      <td>0</td>\n",
       "      <td>0</td>\n",
       "      <td>0</td>\n",
       "      <td>0</td>\n",
       "      <td>0</td>\n",
       "      <td>0</td>\n",
       "      <td>0</td>\n",
       "      <td>1</td>\n",
       "      <td>0</td>\n",
       "      <td>0</td>\n",
       "      <td>...</td>\n",
       "      <td>101</td>\n",
       "      <td>41</td>\n",
       "      <td>105</td>\n",
       "      <td>70</td>\n",
       "      <td>103</td>\n",
       "      <td>19</td>\n",
       "      <td>64</td>\n",
       "      <td>3</td>\n",
       "      <td>17</td>\n",
       "      <td>0</td>\n",
       "    </tr>\n",
       "    <tr>\n",
       "      <th>4</th>\n",
       "      <td>0</td>\n",
       "      <td>3</td>\n",
       "      <td>0</td>\n",
       "      <td>0</td>\n",
       "      <td>0</td>\n",
       "      <td>0</td>\n",
       "      <td>0</td>\n",
       "      <td>0</td>\n",
       "      <td>2</td>\n",
       "      <td>0</td>\n",
       "      <td>...</td>\n",
       "      <td>174</td>\n",
       "      <td>55</td>\n",
       "      <td>105</td>\n",
       "      <td>107</td>\n",
       "      <td>46</td>\n",
       "      <td>35</td>\n",
       "      <td>69</td>\n",
       "      <td>1</td>\n",
       "      <td>24</td>\n",
       "      <td>0</td>\n",
       "    </tr>\n",
       "  </tbody>\n",
       "</table>\n",
       "<p>5 rows × 25507 columns</p>\n",
       "</div>"
      ],
      "text/plain": [
       "   0      1      2      3      4      5      6      7      8      9      \\\n",
       "0      0      1      0      0      0      1      1      0      0      0   \n",
       "1      0      2      2      0      0      0      1      0      0      0   \n",
       "2      0      1      1      0      0      0      0      0      2      0   \n",
       "3      0      0      0      0      0      0      0      1      0      0   \n",
       "4      0      3      0      0      0      0      0      0      2      0   \n",
       "\n",
       "   ...    25497  25498  25499  25500  25501  25502  25503  25504  25505  25506  \n",
       "0  ...       95     27     54     48     26     17     44      4     15      0  \n",
       "1  ...      113     36     67     90     89     12     53      7     23      0  \n",
       "2  ...       93     39     46     52     35     23     33      2     18      1  \n",
       "3  ...      101     41    105     70    103     19     64      3     17      0  \n",
       "4  ...      174     55    105    107     46     35     69      1     24      0  \n",
       "\n",
       "[5 rows x 25507 columns]"
      ]
     },
     "execution_count": 3,
     "metadata": {},
     "output_type": "execute_result"
    }
   ],
   "source": [
    "s1counts.head()"
   ]
  },
  {
   "cell_type": "markdown",
   "metadata": {},
   "source": [
    "Datasets for use with NVR should be formatted as such, with each row as a cell and each column as a gene. Here we have 1597 cells and 25507 genes."
   ]
  },
  {
   "cell_type": "code",
   "execution_count": 4,
   "metadata": {},
   "outputs": [
    {
     "data": {
      "text/plain": [
       "(1597, 25507)"
      ]
     },
     "execution_count": 4,
     "metadata": {},
     "output_type": "execute_result"
    }
   ],
   "source": [
    "s1counts.shape"
   ]
  },
  {
   "cell_type": "markdown",
   "metadata": {},
   "source": [
    "NVR takes the data as a numpy array, and will throw an exception if other data types are input. So we convert it here first."
   ]
  },
  {
   "cell_type": "code",
   "execution_count": 5,
   "metadata": {},
   "outputs": [],
   "source": [
    "s1countsArr=np.asarray(s1counts)"
   ]
  },
  {
   "cell_type": "markdown",
   "metadata": {},
   "source": [
    "Depending on the phenomenon of interest, this next quality control step is **optional** but recommended. Here we make the assumption that genes where only one or zero transcripts are found across all cells are low quality. Thus we remove these genes. "
   ]
  },
  {
   "cell_type": "code",
   "execution_count": 6,
   "metadata": {},
   "outputs": [
    {
     "data": {
      "text/plain": [
       "(1597L, 13730L)"
      ]
     },
     "execution_count": 6,
     "metadata": {},
     "output_type": "execute_result"
    }
   ],
   "source": [
    "hqGenes=nvr.parseNoise(s1countsArr)\n",
    "s1countsArrHq=nvr.mkIndexedArr(s1countsArr,hqGenes)\n",
    "s1countsArrHq.shape"
   ]
  },
  {
   "cell_type": "markdown",
   "metadata": {},
   "source": [
    "The parseNoise() function locates higher quality genes and returns their indices. Subsequently, the mkIndexedArr utilizes these indices and generates a new array containing only the count data from these high quality genes. "
   ]
  },
  {
   "cell_type": "markdown",
   "metadata": {},
   "source": [
    "Next, we must normalize the count data to the library size and perform a pointwise inverse hyperbolic sine transformation on the data with the pwArcsinh() function. 5000 is the constant we use for this transformation. Examples of alternative methods include log1p transformations.   "
   ]
  },
  {
   "cell_type": "code",
   "execution_count": 7,
   "metadata": {},
   "outputs": [
    {
     "name": "stdout",
     "output_type": "stream",
     "text": [
      "Completion:\n",
      "99.937382592413\r"
     ]
    }
   ],
   "source": [
    "s1adataHq=nvr.pwArcsinh(s1countsArrHq,5000)"
   ]
  },
  {
   "cell_type": "markdown",
   "metadata": {},
   "source": [
    "## 2. Unsupervised feature selection"
   ]
  },
  {
   "cell_type": "markdown",
   "metadata": {},
   "source": [
    "With the data in the proper format, we can now perform feature selection with the select_genes() function. This function will return a set of indices which can be crossreferenced with a corresponding set of gene names. Note that the \"neighborhood variance calculation\" steps will take some time. For the preprocessed s1adataHq input data, the process took approximately 830 seconds on an i5-4300u."
   ]
  },
  {
   "cell_type": "code",
   "execution_count": 8,
   "metadata": {
    "scrolled": true
   },
   "outputs": [
    {
     "name": "stdout",
     "output_type": "stream",
     "text": [
      "Start min_conn_k\n",
      "4 connections needed\n",
      "Finished min_conn_k \n",
      "Start traj_dist\n",
      "Finished traj_dist\n",
      "Start adaptive_knn_graph\n",
      "Finished adaptive_knn_graph\n",
      "Start global variance calculation\n",
      "Finished global variance calculation\n",
      "Start neighborhood variance calculation\n",
      "Completion:\n",
      "Finished neighborhood variance calculation\n",
      "Start global to neighborhood variance ratio calculation\n",
      "Finished global to neighborhood variance ratio calculation\n",
      "Finished selection_val\n",
      "Finished gene selection in 946.611999989 seconds\n",
      "done\n"
     ]
    }
   ],
   "source": [
    "s1_selected_genes=nvr.select_genes(s1adataHq)"
   ]
  },
  {
   "cell_type": "code",
   "execution_count": 10,
   "metadata": {
    "scrolled": true
   },
   "outputs": [
    {
     "data": {
      "text/plain": [
       "(404L,)"
      ]
     },
     "execution_count": 10,
     "metadata": {},
     "output_type": "execute_result"
    }
   ],
   "source": [
    "s1_selected_genes.shape"
   ]
  },
  {
   "cell_type": "markdown",
   "metadata": {},
   "source": [
    "This 404 length array represents the genes selected, or the genes where the neighborhood expression variance was lower than the global expression variance. These are indices that can be used to construct a subset of the full dataset for downstream analysis."
   ]
  },
  {
   "cell_type": "code",
   "execution_count": 12,
   "metadata": {},
   "outputs": [],
   "source": [
    "pd.DataFrame(s1_selected_genes).to_csv(\"s1_selected_genes_nvr.csv\", header=False,index=False)"
   ]
  },
  {
   "cell_type": "code",
   "execution_count": null,
   "metadata": {},
   "outputs": [],
   "source": []
  }
 ],
 "metadata": {
  "kernelspec": {
   "display_name": "Python 2",
   "language": "python",
   "name": "python2"
  },
  "language_info": {
   "codemirror_mode": {
    "name": "ipython",
    "version": 2
   },
   "file_extension": ".py",
   "mimetype": "text/x-python",
   "name": "python",
   "nbconvert_exporter": "python",
   "pygments_lexer": "ipython2",
   "version": "2.7.13"
  }
 },
 "nbformat": 4,
 "nbformat_minor": 2
}
