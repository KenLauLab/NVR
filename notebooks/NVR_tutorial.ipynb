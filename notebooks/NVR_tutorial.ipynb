{
 "cells": [
  {
   "cell_type": "markdown",
   "metadata": {},
   "source": [
    "# Gene Selection Tutorial "
   ]
  },
  {
   "cell_type": "markdown",
   "metadata": {},
   "source": [
    "## 0. Importing packages"
   ]
  },
  {
   "cell_type": "code",
   "execution_count": 1,
   "metadata": {},
   "outputs": [],
   "source": [
    "import scanpy as sc \n",
    "import pandas as pd\n",
    "import numpy as np\n",
    "import nvr"
   ]
  },
  {
   "cell_type": "markdown",
   "metadata": {},
   "source": [
    "Please note that this tutorial utilizes Scanpy. Which was described by [Wolf et al., 2018.](https://genomebiology.biomedcentral.com/articles/10.1186/s13059-017-1382-0) Scanpy is a python package for the organization and analysis of large scale scRNA-seq data. Scanpy documentation is available [here](https://scanpy.readthedocs.io/en/stable/)."
   ]
  },
  {
   "cell_type": "markdown",
   "metadata": {},
   "source": [
    "## 1. Loading and pre-processing raw count data"
   ]
  },
  {
   "cell_type": "markdown",
   "metadata": {},
   "source": [
    "### Reading h5ad from file"
   ]
  },
  {
   "cell_type": "markdown",
   "metadata": {},
   "source": [
    "First, we must load the example dataset. This dataset is derived from [GSE102698](https://www.ncbi.nlm.nih.gov/geo/query/acc.cgi?acc=GSE102698). Here, we provide it structured as a compressed AnnData object available [here](https://github.com/KenLauLab/pCreode/blob/master/data/s1_counts.h5ad). Scanpy's loading functions allow us to quickly load large datasets into our python environment."
   ]
  },
  {
   "cell_type": "code",
   "execution_count": 2,
   "metadata": {},
   "outputs": [
    {
     "data": {
      "text/plain": [
       "AnnData object with n_obs × n_vars = 1597 × 25507 "
      ]
     },
     "execution_count": 2,
     "metadata": {},
     "output_type": "execute_result"
    }
   ],
   "source": [
    "adata = sc.read_h5ad(\"../data/s1_counts.h5ad\")\n",
    "adata"
   ]
  },
  {
   "cell_type": "markdown",
   "metadata": {},
   "source": [
    "This dataset consists of 1597 cells and 25507 genes."
   ]
  },
  {
   "cell_type": "markdown",
   "metadata": {},
   "source": [
    "### Optional first pass filtering"
   ]
  },
  {
   "cell_type": "markdown",
   "metadata": {},
   "source": [
    "This step is an optional filtering step which removes genes based off of very general criteria, such as the number of cells it is seen expressed in or some cumululative number of counts. "
   ]
  },
  {
   "cell_type": "code",
   "execution_count": 3,
   "metadata": {},
   "outputs": [],
   "source": [
    "sc.pp.filter_genes(adata,min_cells = 15) #the use of this function removes any gene that is expressed in fewer than 15 cells "
   ]
  },
  {
   "cell_type": "markdown",
   "metadata": {},
   "source": [
    "__Note that this tutorial does not make use of this optional first pass filtering__"
   ]
  },
  {
   "cell_type": "markdown",
   "metadata": {},
   "source": [
    "### Normalization and transformation"
   ]
  },
  {
   "cell_type": "markdown",
   "metadata": {},
   "source": [
    "Next, we must normalize the dataset and transform it for downstream analyses. We do this through scanpy's normalize_total function, which, given the below parameters, normalizes each gene count to the total number of counts found in that respective cell. Subsequently, we transform these values with nvr's arcsinh_transform() function. Alternative transformation procedures include log based methods.  "
   ]
  },
  {
   "cell_type": "code",
   "execution_count": 4,
   "metadata": {},
   "outputs": [],
   "source": [
    "sc.pp.normalize_total(adata,max_fraction = 0, target_sum = 1) #normalize by total counts per cell\n",
    "nvr.arcsinh_transform(adata) #transform through arcsinh"
   ]
  },
  {
   "cell_type": "markdown",
   "metadata": {},
   "source": [
    "## 2. Unsupervised feature selection"
   ]
  },
  {
   "cell_type": "markdown",
   "metadata": {},
   "source": [
    "With the data loaded, normalized, and transformed we can now proceed to feature selection. This function will return a AnnData object which contains additional information regarding nvr feature selected genes. This process should only take a few seconds (5-10 seconds on an i5-8259U). "
   ]
  },
  {
   "cell_type": "code",
   "execution_count": 5,
   "metadata": {},
   "outputs": [
    {
     "name": "stdout",
     "output_type": "stream",
     "text": [
      "1 -neighbor(s) results in 1597 component(s)\n",
      "2 -neighbor(s) results in 22 component(s)\n",
      "3 -neighbor(s) results in 2 component(s)\n",
      "4 -neighbor(s) results in 1 component(s)\n",
      "Using minimally connected KNN graph with 4 neighbors\n",
      "Calculating neighborhood MSE\n",
      "Calculating global/neighborhood variance ratio\n",
      "Feature selection complete, 5 seconds elapsed\n"
     ]
    }
   ],
   "source": [
    "adata = nvr.nvr_feature_select(adata)"
   ]
  },
  {
   "cell_type": "markdown",
   "metadata": {},
   "source": [
    "The output boolean mask can be accessed through standard AnnData conventions. Each \"True\" in this boolean mask represesnts a selected gene."
   ]
  },
  {
   "cell_type": "code",
   "execution_count": 6,
   "metadata": {},
   "outputs": [
    {
     "data": {
      "text/plain": [
       "array([False, False, False, ..., False,  True, False])"
      ]
     },
     "execution_count": 6,
     "metadata": {},
     "output_type": "execute_result"
    }
   ],
   "source": [
    "adata.uns['NVR_genes']"
   ]
  },
  {
   "cell_type": "markdown",
   "metadata": {},
   "source": [
    "Finally, we can view the names of the genes selected by applying the generated mask."
   ]
  },
  {
   "cell_type": "code",
   "execution_count": 7,
   "metadata": {},
   "outputs": [
    {
     "data": {
      "text/html": [
       "<div>\n",
       "<style scoped>\n",
       "    .dataframe tbody tr th:only-of-type {\n",
       "        vertical-align: middle;\n",
       "    }\n",
       "\n",
       "    .dataframe tbody tr th {\n",
       "        vertical-align: top;\n",
       "    }\n",
       "\n",
       "    .dataframe thead th {\n",
       "        text-align: right;\n",
       "    }\n",
       "</style>\n",
       "<table border=\"1\" class=\"dataframe\">\n",
       "  <thead>\n",
       "    <tr style=\"text-align: right;\">\n",
       "      <th></th>\n",
       "    </tr>\n",
       "    <tr>\n",
       "      <th>index</th>\n",
       "    </tr>\n",
       "  </thead>\n",
       "  <tbody>\n",
       "    <tr>\n",
       "      <th>1500004A13Rik</th>\n",
       "    </tr>\n",
       "    <tr>\n",
       "      <th>1810020O05Rik</th>\n",
       "    </tr>\n",
       "    <tr>\n",
       "      <th>1810065E05Rik</th>\n",
       "    </tr>\n",
       "    <tr>\n",
       "      <th>2010109I03Rik</th>\n",
       "    </tr>\n",
       "    <tr>\n",
       "      <th>2200002D01Rik</th>\n",
       "    </tr>\n",
       "    <tr>\n",
       "      <th>2310079G19Rik</th>\n",
       "    </tr>\n",
       "    <tr>\n",
       "      <th>2810417H13Rik</th>\n",
       "    </tr>\n",
       "    <tr>\n",
       "      <th>4931406C07Rik</th>\n",
       "    </tr>\n",
       "    <tr>\n",
       "      <th>5330417C22Rik</th>\n",
       "    </tr>\n",
       "    <tr>\n",
       "      <th>Abcb1a</th>\n",
       "    </tr>\n",
       "    <tr>\n",
       "      <th>Abcg2</th>\n",
       "    </tr>\n",
       "    <tr>\n",
       "      <th>Acox1</th>\n",
       "    </tr>\n",
       "    <tr>\n",
       "      <th>Actb</th>\n",
       "    </tr>\n",
       "    <tr>\n",
       "      <th>Actn1</th>\n",
       "    </tr>\n",
       "    <tr>\n",
       "      <th>Actn4</th>\n",
       "    </tr>\n",
       "    <tr>\n",
       "      <th>Adh1</th>\n",
       "    </tr>\n",
       "    <tr>\n",
       "      <th>Agr2</th>\n",
       "    </tr>\n",
       "    <tr>\n",
       "      <th>Ahcyl2</th>\n",
       "    </tr>\n",
       "    <tr>\n",
       "      <th>Ahnak</th>\n",
       "    </tr>\n",
       "    <tr>\n",
       "      <th>Alox5ap</th>\n",
       "    </tr>\n",
       "  </tbody>\n",
       "</table>\n",
       "</div>"
      ],
      "text/plain": [
       "Empty DataFrame\n",
       "Columns: []\n",
       "Index: [1500004A13Rik, 1810020O05Rik, 1810065E05Rik, 2010109I03Rik, 2200002D01Rik, 2310079G19Rik, 2810417H13Rik, 4931406C07Rik, 5330417C22Rik, Abcb1a, Abcg2, Acox1, Actb, Actn1, Actn4, Adh1, Agr2, Ahcyl2, Ahnak, Alox5ap]"
      ]
     },
     "execution_count": 7,
     "metadata": {},
     "output_type": "execute_result"
    }
   ],
   "source": [
    "adata.var[adata.uns['NVR_genes']].head(20) #only visualizing the first 20 genes selected"
   ]
  },
  {
   "cell_type": "markdown",
   "metadata": {},
   "source": [
    "We can also subset the original AnnData object to generated a feature selected dataset, instead of just looking at the gene names. "
   ]
  },
  {
   "cell_type": "code",
   "execution_count": 9,
   "metadata": {},
   "outputs": [
    {
     "data": {
      "text/plain": [
       "View of AnnData object with n_obs × n_vars = 1597 × 414 \n",
       "    uns: 'neighbors', 'Global_Variance', 'Summed_MSE', 'Edges_per_neighborhood', 'NVR_genes'\n",
       "    obsm: 'Neighborhood_MSE'"
      ]
     },
     "execution_count": 9,
     "metadata": {},
     "output_type": "execute_result"
    }
   ],
   "source": [
    "feature_selected_adata = adata[:,adata.uns['NVR_genes']]\n",
    "feature_selected_adata"
   ]
  }
 ],
 "metadata": {
  "kernelspec": {
   "display_name": "py3_scanpy",
   "language": "python",
   "name": "py3_scanpy"
  },
  "language_info": {
   "codemirror_mode": {
    "name": "ipython",
    "version": 3
   },
   "file_extension": ".py",
   "mimetype": "text/x-python",
   "name": "python",
   "nbconvert_exporter": "python",
   "pygments_lexer": "ipython3",
   "version": "3.7.3"
  }
 },
 "nbformat": 4,
 "nbformat_minor": 4
}
